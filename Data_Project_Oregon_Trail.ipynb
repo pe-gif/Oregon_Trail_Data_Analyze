import random
import pandas as pd
from datetime import datetime, timedelta

# Professions and starting money
professions = {
    "Banker": 1600,
    "Carpenter": 800,
    "Farmer": 400
}

# Prices (per unit)
prices = {
    "food": 0.20,       # per pound
    "oxen": 40,         # each
    "ammo": 2,          # per 10 bullets
    "wheel": 10,        # wagon wheel
    "axle": 12,         # wagon axle
    "tongue": 15,       # wagon tongue
    "clothing": 10      # per set
}

# Travel styles
paces = ["steady", "strenuous", "grueling"]
rations = ["filling", "meager", "bare bones"]

# Valid departure months
start_months = {
    "March": datetime(1848, 3, 1),
    "April": datetime(1848, 4, 1),
    "May": datetime(1848, 5, 1),
    "June": datetime(1848, 6, 1),
    "July": datetime(1848, 7, 1)
}

# Key locations (mile markers)
locations = {
    100: "Kansas River Crossing",
    300: "Big Blue River Crossing",
    500: "Fort Kearney",
    780: "Chimney Rock",
    1020: "Fort Laramie",
    1250: "Independence Rock",
    1380: "South Pass",
    1560: "Fort Bridger",
    1700: "Green River",
    1900: "Fort Hall",
    2000: "Oregon City"
}

def buy_random_supplies(money):
    """Randomized purchase of supplies within budget."""
    while True:
        food = random.randint(500, 1500)   # lbs
        oxen = random.randint(2, 6)
        ammo = random.randint(100, 300)

        wheels = random.randint(1, 3)
        axles = random.randint(1, 3)
        tongues = random.randint(1, 2)

        clothing = random.randint(2, 10)

        cost = (
            food * prices["food"] +
            oxen * prices["oxen"] +
            (ammo / 10) * prices["ammo"] +
            wheels * prices["wheel"] +
            axles * prices["axle"] +
            tongues * prices["tongue"] +
            clothing * prices["clothing"]
        )

        if cost <= money:
            return food, oxen, ammo, wheels, axles, tongues, clothing, cost

def simulate_run(run_id):
    # Profession + money
    profession = random.choice(list(professions.keys()))
    money = professions[profession]

    # Starting supplies under budget
    food, oxen, ammo, wheels, axles, tongues, clothing, spent = buy_random_supplies(money)
    leftover_money = money - spent

    # Start month + date
    start_month = random.choice(list(start_months.keys()))
    current_date = start_months[start_month]

    # Stats
    miles = 0
    days = 0
    deaths = 0

    # Counters
    illnesses = 0
    hunts = 0
    rivers = 0
    clothing_lost = 0

    pace = random.choice(paces)
    ration = random.choice(rations)

    day_logs = []

    while miles < 2000 and oxen > 0 and food > 0 and deaths < 5:
        days += 1
        daily_events = []
        date_str = current_date.strftime("%Y-%m-%d")

        # distance traveled per day
        if pace == "steady":
            miles_today = 15
        elif pace == "strenuous":
            miles_today = 20
        else:
            miles_today = 25
        miles += miles_today

        # food consumption
        if ration == "filling":
            food_used = 20
        elif ration == "meager":
            food_used = 15
        else:
            food_used = 10
        food -= food_used

        # illness (higher in cold months with low clothing)
        cold_months = [11, 12, 1, 2]
        illness_chance = 0.05
        if current_date.month in cold_months and clothing < 3:
            illness_chance += 0.05
        if random.random() < illness_chance:
            illnesses += 1
            daily_events.append("illness")
            if random.random() < 0.2:
                deaths += 1
                daily_events.append("death")

        # wagon break (specific part)
        if random.random() < 0.03:
            part_broken = random.choice(["wheel", "axle", "tongue"])
            daily_events.append(f"{part_broken}_break")

            if part_broken == "wheel" and wheels > 0:
                wheels -= 1
            elif part_broken == "axle" and axles > 0:
                axles -= 1
            elif part_broken == "tongue" and tongues > 0:
                tongues -= 1
            else:
                miles -= 10  # no spare → lose progress

        # river crossing
        if random.random() < 0.02:
            rivers += 1
            daily_events.append("river_crossing")
            if random.random() < 0.2:
                food -= 50
                oxen -= 1
                clothing_lost += 1
                clothing = max(0, clothing - 1)
                daily_events.append("river_fail")

        # hunting (adaptive to food supply)
        if food < 200:
            hunt_chance = 0.6
        elif food < 500:
            hunt_chance = 0.4
        elif food < 1000:
            hunt_chance = 0.2
        else:
            hunt_chance = 0.05

        if random.random() < hunt_chance and ammo >= 5:
            hunts += 1
            hunt_gain = random.randint(50, 200)
            food += hunt_gain
            ammo -= 5
            daily_events.append(f"hunt_{hunt_gain}lbs")

        # clothing loss (more likely in winter)
        if random.random() < (0.01 if current_date.month not in cold_months else 0.03):
            if clothing > 0:
                clothing_lost += 1
                clothing -= 1
                daily_events.append("lost_clothing")

        # check for location
        if miles in locations:
            loc_name = locations[miles]
            daily_events.append(f"arrived_{loc_name}")
            if random.random() < 0.3:
                daily_events.append("talking")

        # log daily
        day_logs.append({
            "run_id": run_id,
            "day": days,
            "date": date_str,
            "miles_total": miles,
            "food_left": max(food, 0),
            "oxen_left": oxen,
            "ammo_left": ammo,
            "wheels_left": wheels,
            "axles_left": axles,
            "tongues_left": tongues,
            "clothing_left": clothing,
            "deaths_total": deaths,
            "events": ", ".join(daily_events) if daily_events else "none",
            "pace": pace,
            "ration": ration
        })

        # advance time
        current_date += timedelta(days=1)

        if food <= 0:
            break

    outcome = "success" if miles >= 2000 and deaths < 5 else "failure"

    run_summary = {
        "run_id": run_id,
        "profession": profession,
        "pace": pace,
        "ration": ration,
        "start_month": start_month,
        "outcome": outcome,
        "days": days,
        "miles": miles,
        "illnesses": illnesses,
        "deaths": deaths,
        "hunts": hunts,
        "rivers": rivers,
        "clothing_lost": clothing_lost,
        "food_left": max(food, 0),
        "oxen_left": oxen,
        "ammo_left": ammo,
        "wheels_left": wheels,
        "axles_left": axles,
        "tongues_left": tongues,
        "clothing_left": clothing,
        "money_spent": round(spent, 2),
        "money_left": round(leftover_money, 2)
    }

    return run_summary, day_logs


# Run multiple simulations
run_summaries = []
all_day_logs = []

for i in range(1, 51):  # 50 runs, can scale up
    run_summary, day_logs = simulate_run(i)
    run_summaries.append(run_summary)
    all_day_logs.extend(day_logs)

# Convert to DataFrames
df_runs = pd.DataFrame(run_summaries)
df_days = pd.DataFrame(all_day_logs)

# Save to CSV
df_runs.to_csv("oregon_trail_runs.csv", index=False)

print("Generated:", len(df_runs), "runs and", len(df_days), "daily records")
